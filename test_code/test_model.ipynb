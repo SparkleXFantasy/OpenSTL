{
 "cells": [
  {
   "cell_type": "code",
   "execution_count": 1,
   "metadata": {},
   "outputs": [
    {
     "name": "stderr",
     "output_type": "stream",
     "text": [
      "/home1/songxiufeng/miniconda3/envs/openstl/lib/python3.10/site-packages/tqdm/auto.py:21: TqdmWarning: IProgress not found. Please update jupyter and ipywidgets. See https://ipywidgets.readthedocs.io/en/stable/user_install.html\n",
      "  from .autonotebook import tqdm as notebook_tqdm\n"
     ]
    }
   ],
   "source": [
    "from openstl.methods import method_maps, multi_method_maps\n",
    "from openstl.utils import (get_dataset, get_concat_dataset, measure_throughput, SetupCallback, EpochEndCallback, BestCheckpointCallback)\n"
   ]
  },
  {
   "cell_type": "code",
   "execution_count": 2,
   "metadata": {},
   "outputs": [],
   "source": [
    "enc_dec_configs = [\n",
    "    {\n",
    "        'in_shape': [4, 3, 64, 64],\n",
    "        'pre_seq_length': 4,\n",
    "        'aft_seq_length': 12,\n",
    "        'total_length': 16,\n",
    "        'metrics': ['mse', 'mae', 'ssim'],\n",
    "        'spatio_kernel_enc' : 3, \n",
    "        'spatio_kernel_dec' : 3, \n",
    "        'hid_S': 256, \n",
    "        'hid_T': 64, \n",
    "        'N_T': 8, \n",
    "        'N_S': 2\n",
    "    },\n",
    "    {\n",
    "        'in_shape': [4, 3, 128, 128],\n",
    "        'pre_seq_length': 4,\n",
    "        'aft_seq_length': 8,\n",
    "        'total_length': 12,\n",
    "        'metrics': ['mse', 'mae', 'ssim'],\n",
    "        'spatio_kernel_enc' : 3, \n",
    "        'spatio_kernel_dec' : 3, \n",
    "        'hid_S': 256, \n",
    "        'hid_T': 64, \n",
    "        'N_T': 8, \n",
    "        'N_S': 2\n",
    "    }\n",
    "]\n",
    "args = {\n",
    "    \"dataname\": '',\n",
    "    \"metrics\": ['ssim']\n",
    "}"
   ]
  },
  {
   "cell_type": "code",
   "execution_count": 3,
   "metadata": {},
   "outputs": [],
   "source": [
    "model = multi_method_maps['simvp'](enc_dec_configs=enc_dec_configs, steps_per_epoch=20000, test_mean=0, test_std=1, save_dir='output', **args)"
   ]
  },
  {
   "cell_type": "code",
   "execution_count": null,
   "metadata": {},
   "outputs": [],
   "source": [
    "import torch\n",
    "model.eval()\n",
    "\n",
    "\n",
    "\n",
    "f = torch.randn((1, 4, 3, 128, 128))\n",
    "o = model(f, 1)\n",
    "print(o.shape)\n",
    "f = torch.randn((1, 4, 3, 64, 64))\n",
    "o = model(f, 0)\n",
    "print(o.shape)\n"
   ]
  }
 ],
 "metadata": {
  "kernelspec": {
   "display_name": "openstl",
   "language": "python",
   "name": "python3"
  },
  "language_info": {
   "codemirror_mode": {
    "name": "ipython",
    "version": 3
   },
   "file_extension": ".py",
   "mimetype": "text/x-python",
   "name": "python",
   "nbconvert_exporter": "python",
   "pygments_lexer": "ipython3",
   "version": "3.10.15"
  }
 },
 "nbformat": 4,
 "nbformat_minor": 2
}
